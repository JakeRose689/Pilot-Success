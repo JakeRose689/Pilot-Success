{
 "cells": [
  {
   "cell_type": "code",
   "execution_count": 1,
   "metadata": {},
   "outputs": [],
   "source": [
    "#Importing dependencies\n",
    "%matplotlib inline\n",
    "import matplotlib.pyplot as plt\n",
    "import numpy as np\n",
    "import pandas as pd\n",
    "from sklearn.model_selection import train_test_split\n",
    "from sklearn.preprocessing import StandardScaler, MinMaxScaler, LabelEncoder\n",
    "from sklearn.neighbors import KNeighborsRegressor\n",
    "from sklearn.ensemble import RandomForestRegressor, ExtraTreesRegressor, AdaBoostRegressor\n",
    "from sklearn.svm import SVR\n",
    "from sklearn.datasets import make_regression, make_swiss_roll\n",
    "from sklearn.linear_model import LinearRegression, Ridge, Lasso, ElasticNet\n",
    "from sklearn.model_selection import train_test_split\n",
    "from sklearn.preprocessing import StandardScaler\n",
    "import pickle\n",
    "from sklearn.metrics import mean_squared_error, r2_score\n",
    "from math import sqrt"
   ]
  },
  {
   "cell_type": "code",
   "execution_count": 2,
   "metadata": {},
   "outputs": [],
   "source": [
    "#Importing our file\n",
    "file = 'cleaned_data.csv'\n",
    "df = pd.read_csv(file)\n",
    "df.dropna(inplace=True)"
   ]
  },
  {
   "cell_type": "code",
   "execution_count": 3,
   "metadata": {},
   "outputs": [],
   "source": [
    "#Cleaning the dataframe\n",
    "df['Course Short Name']=df['Course Short Name'].str[:1].astype('float64')\n",
    "df"
   ]
  },
  {
   "cell_type": "code",
   "execution_count": 5,
   "metadata": {},
   "outputs": [],
   "source": [
    "#Creating a function to test all models we would like to consider\n",
    "def test_model(model, data):\n",
    "    X_train_scaled, X_test_scaled, y_train, y_test = data\n",
    "    reg = model.fit(X_train_scaled, y_train)\n",
    "    print(f'Model: {type(reg).__name__}')\n",
    "    print(f'Train score: {reg.score(X_train_scaled, y_train)}')\n",
    "    print(f'Test Score: {reg.score(X_test_scaled, y_test)}\\n')\n",
    "    plt.show() "
   ]
  },
  {
   "cell_type": "code",
   "execution_count": 6,
   "metadata": {},
   "outputs": [],
   "source": [
    "# Create, split, and scale data\n",
    "X = df.drop('Course Flight Hours', axis=1)\n",
    "y = df['Course Flight Hours']\n",
    "X_train, X_test, y_train, y_test = train_test_split(X, y, random_state=42)\n",
    "scaler = StandardScaler().fit(X_train)\n",
    "X_train_scaled = scaler.transform(X_train)\n",
    "X_test_scaled = scaler.transform(X_test)\n",
    "data = [X_train_scaled, X_test_scaled, y_train, y_test]"
   ]
  },
  {
   "cell_type": "code",
   "execution_count": 10,
   "metadata": {
    "scrolled": true
   },
   "outputs": [
    {
     "name": "stdout",
     "output_type": "stream",
     "text": [
      "Model: LinearRegression\n",
      "Train score: 0.37754311326632894\n",
      "Test Score: 0.393088628486681\n",
      "\n",
      "Model: KNeighborsRegressor\n",
      "Train score: 0.8973797887059363\n",
      "Test Score: 0.8141407807723654\n",
      "\n",
      "Model: RandomForestRegressor\n",
      "Train score: 0.9918421999092254\n",
      "Test Score: 0.9380789518204734\n",
      "\n",
      "Model: ExtraTreesRegressor\n",
      "Train score: 0.9996304252378392\n",
      "Test Score: 0.9329821578894522\n",
      "\n",
      "Model: AdaBoostRegressor\n",
      "Train score: 0.9348810088394996\n",
      "Test Score: 0.9270588238161119\n",
      "\n",
      "Model: SVR\n",
      "Train score: 0.3770994547134604\n",
      "Test Score: 0.3869759059667911\n",
      "\n"
     ]
    }
   ],
   "source": [
    "#Testing familiar models to identify the most suitable for our data\n",
    "test_model(LinearRegression(), data)\n",
    "test_model(KNeighborsRegressor(), data)\n",
    "test_model(RandomForestRegressor(), data)\n",
    "test_model(ExtraTreesRegressor(), data)\n",
    "test_model(AdaBoostRegressor(), data)\n",
    "test_model(SVR(C=1.0, epsilon=0.2), data)"
   ]
  },
  {
   "cell_type": "code",
   "execution_count": 11,
   "metadata": {},
   "outputs": [],
   "source": [
    "#Selecting the best model from the trials above\n",
    "model = RandomForestRegressor().fit(X_train_scaled, y_train)"
   ]
  },
  {
   "cell_type": "code",
   "execution_count": 12,
   "metadata": {},
   "outputs": [
    {
     "name": "stdout",
     "output_type": "stream",
     "text": [
      "Training Score: 0.9918069297706877\n",
      "Testing Score: 0.9384316227026981\n"
     ]
    }
   ],
   "source": [
    "#Printing the scores of our forest model\n",
    "print(f'Training Score: {model.score(X_train_scaled, y_train)}')\n",
    "print(f'Testing Score: {model.score(X_test_scaled, y_test)}')"
   ]
  },
  {
   "cell_type": "code",
   "execution_count": 22,
   "metadata": {
    "scrolled": true
   },
   "outputs": [
    {
     "data": {
      "image/png": "[encoded data removed]",
      "text/plain": [
       "<Figure size 432x288 with 1 Axes>"
      ]
     },
     "metadata": {
      "needs_background": "light"
     },
     "output_type": "display_data"
    }
   ],
   "source": [
    "#Plotting residuals\n",
    "plt.scatter(model.predict(X_train_scaled), model.predict(X_train_scaled) - y_train, c=\"blue\", label=\"Training Data\")\n",
    "plt.scatter(model.predict(X_test_scaled), model.predict(X_test_scaled) - y_test, c=\"orange\", label=\"Testing Data\")\n",
    "plt.legend()\n",
    "plt.hlines(y=0, xmin=y.min(), xmax=y.max())\n",
    "plt.title(\"Training V Testing Data\")\n",
    "plt.savefig('Images/TestingData.png')\n",
    "plt.show()"
   ]
  },
  {
   "cell_type": "code",
   "execution_count": 15,
   "metadata": {},
   "outputs": [
    {
     "name": "stdout",
     "output_type": "stream",
     "text": [
      "Root squared error (RMSE): 10.150098290767463\n",
      "R-squared (R2): 0.9384316227026981\n"
     ]
    }
   ],
   "source": [
    "# Use our model to predict a value\n",
    "predicted = model.predict(X_test_scaled)\n",
    "\n",
    "# Score the prediction with MSE and R2\n",
    "# mse = mean_squared_error(y_test, predicted)\n",
    "rms = sqrt(mean_squared_error(y_test, predicted))\n",
    "r2 = r2_score(y_test, predicted)\n",
    "\n",
    "print(f\"Root squared error (RMSE): {rms}\")\n",
    "print(f\"R-squared (R2): {r2}\")"
   ]
  },
  {
   "cell_type": "code",
   "execution_count": 16,
   "metadata": {},
   "outputs": [
    {
     "data": {
      "text/plain": [
       "count    1233.000000\n",
       "mean       54.959611\n",
       "std        41.091332\n",
       "min         1.700000\n",
       "25%        19.600000\n",
       "50%        43.800000\n",
       "75%        78.700000\n",
       "max       162.500000\n",
       "Name: Course Flight Hours, dtype: float64"
      ]
     },
     "execution_count": 16,
     "metadata": {},
     "output_type": "execute_result"
    }
   ],
   "source": [
    "stats = df['Course Flight Hours'].describe()\n",
    "stats"
   ]
  },
  {
   "cell_type": "code",
   "execution_count": 17,
   "metadata": {},
   "outputs": [],
   "source": [
    "#Saving our model\n",
    "filename = 'pilot_forest_model.sav'\n",
    "pickle.dump(model, open(filename, 'wb'))\n",
    "pickle.dump(scaler, open('scaler.pkl', 'wb'))"
   ]
  },
  {
   "cell_type": "code",
   "execution_count": 18,
   "metadata": {},
   "outputs": [],
   "source": [
    "# Load saved model and scaler\n",
    "filename = 'pilot_forest_model.sav'\n",
    "loaded_model = pickle.load(open(filename, 'rb'))\n",
    "loaded_scaler = pickle.load(open('scaler.pkl', 'rb'))"
   ]
  },
  {
   "cell_type": "code",
   "execution_count": 19,
   "metadata": {},
   "outputs": [],
   "source": [
    "#Testing for sample user input to get a prediction\n",
    "raw_user_input = [[7,3,60,2]]"
   ]
  },
  {
   "cell_type": "code",
   "execution_count": 20,
   "metadata": {},
   "outputs": [
    {
     "data": {
      "text/plain": [
       "array([[ 1.43777041, -1.10703137, -0.84953059, -1.50621495]])"
      ]
     },
     "execution_count": 20,
     "metadata": {},
     "output_type": "execute_result"
    }
   ],
   "source": [
    "# Scale new user inputs to match pre-processing done on\n",
    "# train/test data using loaded scaler\n",
    "scaled_user_input = loaded_scaler.transform(raw_user_input)\n",
    "scaled_user_input"
   ]
  },
  {
   "cell_type": "code",
   "execution_count": 21,
   "metadata": {},
   "outputs": [
    {
     "data": {
      "text/plain": [
       "array([16.459])"
      ]
     },
     "execution_count": 21,
     "metadata": {},
     "output_type": "execute_result"
    }
   ],
   "source": [
    "# Get predictions using new, scaled user inputs\n",
    "prediction = loaded_model.predict(scaled_user_input)\n",
    "prediction"
   ]
  },
  {
   "cell_type": "code",
   "execution_count": null,
   "metadata": {},
   "outputs": [],
   "source": []
  }
 ],
 "metadata": {
  "kernelspec": {
   "display_name": "Python [conda env:PythonData] *",
   "language": "python",
   "name": "conda-env-PythonData-py"
  },
  "language_info": {
   "codemirror_mode": {
    "name": "ipython",
    "version": 3
   },
   "file_extension": ".py",
   "mimetype": "text/x-python",
   "name": "python",
   "nbconvert_exporter": "python",
   "pygments_lexer": "ipython3",
   "version": "3.8.12"
  }
 },
 "nbformat": 4,
 "nbformat_minor": 4
}
